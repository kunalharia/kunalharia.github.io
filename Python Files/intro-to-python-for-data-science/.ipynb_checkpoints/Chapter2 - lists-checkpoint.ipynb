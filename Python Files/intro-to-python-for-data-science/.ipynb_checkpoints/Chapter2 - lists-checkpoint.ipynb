{
 "cells": [
  {
   "cell_type": "code",
   "execution_count": 396,
   "metadata": {
    "collapsed": true
   },
   "outputs": [],
   "source": [
    "# list is a \"compound data type\"; you can group values together:\n",
    "\n",
    "a = \"is\"\n",
    "b = \"nice\"\n",
    "\n",
    "my_list = [\"my\", \"list\", a, b]"
   ]
  },
  {
   "cell_type": "code",
   "execution_count": 397,
   "metadata": {},
   "outputs": [
    {
     "data": {
      "text/plain": [
       "['my', 'list', 'is', 'nice']"
      ]
     },
     "execution_count": 397,
     "metadata": {},
     "output_type": "execute_result"
    }
   ],
   "source": [
    "my_list"
   ]
  },
  {
   "cell_type": "code",
   "execution_count": 398,
   "metadata": {},
   "outputs": [
    {
     "name": "stdout",
     "output_type": "stream",
     "text": [
      "[11.25, 18.0, 20.0, 10.75, 9.5]\n"
     ]
    }
   ],
   "source": [
    "# areas of the different parts of your house are stored in separate variables (in square meters)\n",
    "\n",
    "hall = 11.25\n",
    "kit = 18.0\n",
    "liv = 20.0\n",
    "bed = 10.75\n",
    "bath = 9.50\n",
    "\n",
    "# Create a list, \n",
    "# that contains the area of the\n",
    "# hallway (hall), kitchen (kit), living room (liv), bedroom (bed) and bathroom (bath), \n",
    "# in this order\n",
    "\n",
    "areas = [hall, kit, liv, bed, bath]\n",
    "\n",
    "# Print areas with the print() function.\n",
    "\n",
    "print(areas)"
   ]
  },
  {
   "cell_type": "code",
   "execution_count": 399,
   "metadata": {},
   "outputs": [
    {
     "name": "stdout",
     "output_type": "stream",
     "text": [
      "['hallway', 11.25, 'kitchen', 18.0, 'living room', 20.0, 'bedroom', 10.75, 'bathroom', 9.5]\n"
     ]
    }
   ],
   "source": [
    "# list can contain any Python type\n",
    "\n",
    "# list can also contain a mix of Python types including strings, floats, booleans\n",
    "\n",
    "# improve from the list of numbers\n",
    "# name of the corresponding room is already placed in front\n",
    "areas = [hall, kit, \"living room\", liv, bed, \"bathroom\", bath]\n",
    "# NB \"bathroom\" is a string, \n",
    "#    while bath is a variable that represents the float 9.50 \n",
    "\n",
    "# Adapt list areas\n",
    "areas = [\"hallway\", hall, \"kitchen\", kit, \"living room\", liv, \"bedroom\", bed, \"bathroom\", bath]\n",
    "print(areas)"
   ]
  },
  {
   "cell_type": "code",
   "execution_count": 400,
   "metadata": {},
   "outputs": [],
   "source": [
    "# A list can contain any Python type.\n",
    "\n",
    "# But a list itself is also a Python type. \n",
    "\n",
    "# That means that a list can also contain a list! \n",
    "\n",
    "# list syntax:  my_list = [el1, el2, el3]\n"
   ]
  },
  {
   "cell_type": "code",
   "execution_count": 401,
   "metadata": {
    "collapsed": true
   },
   "outputs": [],
   "source": [
    "# Python code:\n",
    "\n",
    "#   [1, 3, 4, 2]\n",
    "#   [[1, 2, 3], [4, 5, 7]] \n",
    "#   [1 + 2, \"a\" * 5, 3]\n",
    "\n",
    "# Which are valid ways to build a list?  \n",
    "\n",
    "# all these commands are valid ways to build a Python list."
   ]
  },
  {
   "cell_type": "code",
   "execution_count": 402,
   "metadata": {},
   "outputs": [
    {
     "data": {
      "text/plain": [
       "[1, 3, 4, 2]"
      ]
     },
     "execution_count": 402,
     "metadata": {},
     "output_type": "execute_result"
    }
   ],
   "source": [
    "[1, 3, 4, 2]"
   ]
  },
  {
   "cell_type": "code",
   "execution_count": 403,
   "metadata": {},
   "outputs": [
    {
     "data": {
      "text/plain": [
       "[[1, 2, 3], [4, 5, 7]]"
      ]
     },
     "execution_count": 403,
     "metadata": {},
     "output_type": "execute_result"
    }
   ],
   "source": [
    "[[1, 2, 3], [4, 5, 7]]"
   ]
  },
  {
   "cell_type": "code",
   "execution_count": 404,
   "metadata": {},
   "outputs": [
    {
     "data": {
      "text/plain": [
       "[3, 'aaaaa', 3]"
      ]
     },
     "execution_count": 404,
     "metadata": {},
     "output_type": "execute_result"
    }
   ],
   "source": [
    "[1 + 2, \"a\" * 5, 3]"
   ]
  },
  {
   "cell_type": "code",
   "execution_count": 405,
   "metadata": {},
   "outputs": [
    {
     "name": "stdout",
     "output_type": "stream",
     "text": [
      "['hallway', 11.25, 'kitchen', 18.0, 'living room', 20.0, 'bedroom', 10.75, 'bathroom', 9.5]\n"
     ]
    }
   ],
   "source": [
    "# flat list containing strings and floats\n",
    "print(areas)"
   ]
  },
  {
   "cell_type": "code",
   "execution_count": 406,
   "metadata": {},
   "outputs": [
    {
     "name": "stdout",
     "output_type": "stream",
     "text": [
      "[['hallway', 11.25], ['kitchen', 18.0], ['living room', 20.0]]\n"
     ]
    }
   ],
   "source": [
    "# list of lists\n",
    "house = [[\"hallway\", hall], # \"hallway\" is a string, while hall is a variable that represents the float 11.25\n",
    "         [\"kitchen\", kit],\n",
    "         [\"living room\", liv]]\n",
    "\n",
    "print(house)"
   ]
  },
  {
   "cell_type": "code",
   "execution_count": 407,
   "metadata": {
    "collapsed": true
   },
   "outputs": [],
   "source": [
    "# Finish the list of lists so that it also contains the bedroom and bathroom data. Make sure you enter these in order!\n",
    "house = [[\"hallway\", hall],\n",
    "         [\"kitchen\", kit],\n",
    "         [\"living room\", liv],\n",
    "         [\"bedroom\", bed],\n",
    "         [\"bathroom\", bath]]"
   ]
  },
  {
   "cell_type": "code",
   "execution_count": 408,
   "metadata": {},
   "outputs": [
    {
     "name": "stdout",
     "output_type": "stream",
     "text": [
      "[['hallway', 11.25], ['kitchen', 18.0], ['living room', 20.0], ['bedroom', 10.75], ['bathroom', 9.5]]\n"
     ]
    }
   ],
   "source": [
    "# print out house; does this way of structuring your data make more sense?\n",
    "\n",
    "print(house)"
   ]
  },
  {
   "cell_type": "code",
   "execution_count": 409,
   "metadata": {},
   "outputs": [
    {
     "data": {
      "text/plain": [
       "list"
      ]
     },
     "execution_count": 409,
     "metadata": {},
     "output_type": "execute_result"
    }
   ],
   "source": [
    "# Print out the type of house. Are you still dealing with a list?\n",
    "type(house)"
   ]
  },
  {
   "cell_type": "code",
   "execution_count": 410,
   "metadata": {},
   "outputs": [
    {
     "name": "stdout",
     "output_type": "stream",
     "text": [
      "<class 'list'>\n"
     ]
    }
   ],
   "source": [
    "# actually \"print\" out the type of the house variable?\n",
    "print(type(house))"
   ]
  },
  {
   "cell_type": "code",
   "execution_count": null,
   "metadata": {
    "collapsed": true
   },
   "outputs": [],
   "source": []
  },
  {
   "cell_type": "code",
   "execution_count": 411,
   "metadata": {
    "collapsed": true
   },
   "outputs": [],
   "source": [
    "x = [\"a\", \"b\", \"c\", \"d\"]"
   ]
  },
  {
   "cell_type": "code",
   "execution_count": 412,
   "metadata": {},
   "outputs": [],
   "source": [
    "# selects \"b\" from this list"
   ]
  },
  {
   "cell_type": "code",
   "execution_count": 413,
   "metadata": {},
   "outputs": [
    {
     "data": {
      "text/plain": [
       "'b'"
      ]
     },
     "execution_count": 413,
     "metadata": {},
     "output_type": "execute_result"
    }
   ],
   "source": [
    "# second element, so it has index 1.\n",
    "x[1]"
   ]
  },
  {
   "cell_type": "code",
   "execution_count": 414,
   "metadata": {},
   "outputs": [
    {
     "data": {
      "text/plain": [
       "'b'"
      ]
     },
     "execution_count": 414,
     "metadata": {},
     "output_type": "execute_result"
    }
   ],
   "source": [
    "# or use negative indexing\n",
    "x[-3]"
   ]
  },
  {
   "cell_type": "code",
   "execution_count": null,
   "metadata": {
    "collapsed": true
   },
   "outputs": [],
   "source": []
  },
  {
   "cell_type": "code",
   "execution_count": 415,
   "metadata": {
    "scrolled": true
   },
   "outputs": [
    {
     "name": "stdout",
     "output_type": "stream",
     "text": [
      "['hallway', 11.25, 'kitchen', 18.0, 'living room', 20.0, 'bedroom', 10.75, 'bathroom', 9.5]\n"
     ]
    }
   ],
   "source": [
    "print(areas)"
   ]
  },
  {
   "cell_type": "code",
   "execution_count": 416,
   "metadata": {},
   "outputs": [
    {
     "name": "stdout",
     "output_type": "stream",
     "text": [
      "[['hallway', 11.25], ['kitchen', 18.0], ['living room', 20.0], ['bedroom', 10.75], ['bathroom', 9.5]]\n"
     ]
    }
   ],
   "source": [
    "print(house)"
   ]
  },
  {
   "cell_type": "code",
   "execution_count": 417,
   "metadata": {},
   "outputs": [
    {
     "name": "stdout",
     "output_type": "stream",
     "text": [
      "['hallway', 11.25, 'kitchen', 18.0, 'living room', 20.0, 'bedroom', 10.75, 'bathroom', 9.5]\n"
     ]
    }
   ],
   "source": [
    "# Create the areas list\n",
    "areas = [\"hallway\", 11.25, \"kitchen\", 18.0, \"living room\", 20.0, \"bedroom\", 10.75, \"bathroom\", 9.50]\n",
    "print(areas)"
   ]
  },
  {
   "cell_type": "code",
   "execution_count": 418,
   "metadata": {},
   "outputs": [
    {
     "name": "stdout",
     "output_type": "stream",
     "text": [
      "kitchen\n"
     ]
    }
   ],
   "source": [
    "# Print out the second element from the areas list (it has the value 11.25).\n",
    "\n",
    "print(areas[2]) # incorrect as indexing starts at ZERO"
   ]
  },
  {
   "cell_type": "code",
   "execution_count": 419,
   "metadata": {},
   "outputs": [
    {
     "name": "stdout",
     "output_type": "stream",
     "text": [
      "11.25\n"
     ]
    }
   ],
   "source": [
    "print(areas[2-1]) # i.e. print(areas[1]) "
   ]
  },
  {
   "cell_type": "code",
   "execution_count": 420,
   "metadata": {},
   "outputs": [
    {
     "name": "stdout",
     "output_type": "stream",
     "text": [
      "9.5\n"
     ]
    }
   ],
   "source": [
    "# Subset and print out the last element of areas, being 9.50. \n",
    "# Using a negative index makes sense here!\n",
    "\n",
    "print(areas[-1])"
   ]
  },
  {
   "cell_type": "code",
   "execution_count": 421,
   "metadata": {},
   "outputs": [
    {
     "name": "stdout",
     "output_type": "stream",
     "text": [
      "20.0\n"
     ]
    }
   ],
   "source": [
    "# Select the number representing the area of the living room (20.0) and print it out.\n",
    "print(areas[5])"
   ]
  },
  {
   "cell_type": "code",
   "execution_count": null,
   "metadata": {
    "collapsed": true
   },
   "outputs": [],
   "source": []
  },
  {
   "cell_type": "code",
   "execution_count": 422,
   "metadata": {
    "collapsed": true
   },
   "outputs": [],
   "source": [
    "# \"list subsetting\""
   ]
  },
  {
   "cell_type": "code",
   "execution_count": 423,
   "metadata": {},
   "outputs": [
    {
     "name": "stdout",
     "output_type": "stream",
     "text": [
      "bd\n"
     ]
    }
   ],
   "source": [
    "# second and fourth element of a list x are extracted\n",
    "# The strings that result are pasted together using the + operator\n",
    "\n",
    "x = [\"a\", \"b\", \"c\", \"d\"]\n",
    "print(x[1] + x[3])"
   ]
  },
  {
   "cell_type": "code",
   "execution_count": 424,
   "metadata": {
    "collapsed": true
   },
   "outputs": [],
   "source": [
    "# \"list subsetting and variable assignment\""
   ]
  },
  {
   "cell_type": "code",
   "execution_count": 425,
   "metadata": {},
   "outputs": [
    {
     "name": "stdout",
     "output_type": "stream",
     "text": [
      "['hallway', 11.25, 'kitchen', 18.0, 'living room', 20.0, 'bedroom', 10.75, 'bathroom', 9.5]\n"
     ]
    }
   ],
   "source": [
    "print(areas)"
   ]
  },
  {
   "cell_type": "code",
   "execution_count": 426,
   "metadata": {},
   "outputs": [
    {
     "name": "stdout",
     "output_type": "stream",
     "text": [
      "28.75\n"
     ]
    }
   ],
   "source": [
    "# eat_sleep_area = sum of the area of the kitchen and the area of the bedroom\n",
    "eat_sleep_area = areas[4-1] + areas[-3]\n",
    "print(eat_sleep_area)"
   ]
  },
  {
   "cell_type": "code",
   "execution_count": null,
   "metadata": {
    "collapsed": true
   },
   "outputs": [],
   "source": []
  },
  {
   "cell_type": "code",
   "execution_count": 427,
   "metadata": {
    "collapsed": true
   },
   "outputs": [],
   "source": [
    "# Slicing and dicing"
   ]
  },
  {
   "cell_type": "code",
   "execution_count": 428,
   "metadata": {},
   "outputs": [],
   "source": [
    "# slice your list = selecting multiple elements from your list\n",
    "\n",
    "# syntax: my_list[start:end]\n",
    "\n",
    "# The start index will be INCLUDED\n",
    "# while the end index is NOT"
   ]
  },
  {
   "cell_type": "code",
   "execution_count": 429,
   "metadata": {
    "collapsed": true
   },
   "outputs": [],
   "source": [
    "x = [\"a\", \"b\", \"c\", \"d\"]"
   ]
  },
  {
   "cell_type": "code",
   "execution_count": 430,
   "metadata": {},
   "outputs": [
    {
     "data": {
      "text/plain": [
       "['b', 'c']"
      ]
     },
     "execution_count": 430,
     "metadata": {},
     "output_type": "execute_result"
    }
   ],
   "source": [
    "# list with \"b\" and \"c\", corresponding to indexes 1 and 2\n",
    "\n",
    "x[1:3] \n",
    "\n",
    "# elements with index 1 and 2 are included,\n",
    "# while the element with index 3 is not."
   ]
  },
  {
   "cell_type": "code",
   "execution_count": 431,
   "metadata": {},
   "outputs": [
    {
     "data": {
      "text/plain": [
       "['a', 'b']"
      ]
     },
     "execution_count": 431,
     "metadata": {},
     "output_type": "execute_result"
    }
   ],
   "source": [
    "x[:2]"
   ]
  },
  {
   "cell_type": "code",
   "execution_count": 432,
   "metadata": {},
   "outputs": [
    {
     "data": {
      "text/plain": [
       "['c', 'd']"
      ]
     },
     "execution_count": 432,
     "metadata": {},
     "output_type": "execute_result"
    }
   ],
   "source": [
    "x[2:]"
   ]
  },
  {
   "cell_type": "code",
   "execution_count": 433,
   "metadata": {},
   "outputs": [
    {
     "data": {
      "text/plain": [
       "['a', 'b', 'c', 'd']"
      ]
     },
     "execution_count": 433,
     "metadata": {},
     "output_type": "execute_result"
    }
   ],
   "source": [
    "x[:]"
   ]
  },
  {
   "cell_type": "code",
   "execution_count": 434,
   "metadata": {},
   "outputs": [
    {
     "name": "stdout",
     "output_type": "stream",
     "text": [
      "['hallway', 11.25, 'kitchen', 18.0, 'living room', 20.0, 'bedroom', 10.75, 'bathroom', 9.5]\n"
     ]
    }
   ],
   "source": [
    "print(areas)"
   ]
  },
  {
   "cell_type": "code",
   "execution_count": 435,
   "metadata": {},
   "outputs": [
    {
     "name": "stdout",
     "output_type": "stream",
     "text": [
      "['hallway', 11.25, 'kitchen', 18.0, 'living room', 20.0]\n"
     ]
    }
   ],
   "source": [
    "# Use slicing to create a list, downstairs, that contains the first 6 elements of areas.\n",
    "downstairs = areas[0:6]\n",
    "print(downstairs)"
   ]
  },
  {
   "cell_type": "code",
   "execution_count": 436,
   "metadata": {},
   "outputs": [
    {
     "name": "stdout",
     "output_type": "stream",
     "text": [
      "['hallway', 11.25, 'kitchen', 18.0, 'living room', 20.0]\n"
     ]
    }
   ],
   "source": [
    "# simplify the slicing by omitting the begin index.\n",
    "downstairs = areas[:6] \n",
    "print(downstairs)"
   ]
  },
  {
   "cell_type": "code",
   "execution_count": 437,
   "metadata": {},
   "outputs": [
    {
     "name": "stdout",
     "output_type": "stream",
     "text": [
      "['bedroom', 10.75, 'bathroom', 9.5]\n"
     ]
    }
   ],
   "source": [
    "# Do a similar thing to create a new variable, upstairs, that contains the last 4 elements of areas.\n",
    "upstairs = areas[6:10]\n",
    "print(upstairs)"
   ]
  },
  {
   "cell_type": "code",
   "execution_count": 438,
   "metadata": {},
   "outputs": [
    {
     "name": "stdout",
     "output_type": "stream",
     "text": [
      "['bedroom', 10.75, 'bathroom', 9.5]\n"
     ]
    }
   ],
   "source": [
    "# simplify the slicing by omitting the end index.\n",
    "upstairs = areas[-4:] \n",
    "print(upstairs)"
   ]
  },
  {
   "cell_type": "code",
   "execution_count": null,
   "metadata": {
    "collapsed": true
   },
   "outputs": [],
   "source": []
  },
  {
   "cell_type": "code",
   "execution_count": 439,
   "metadata": {
    "collapsed": true
   },
   "outputs": [],
   "source": [
    "# Subsetting lists of lists"
   ]
  },
  {
   "cell_type": "code",
   "execution_count": 440,
   "metadata": {
    "collapsed": true
   },
   "outputs": [],
   "source": [
    "x = [[\"a\", \"b\", \"c\"],\n",
    "     [\"d\", \"e\", \"f\"],\n",
    "     [\"g\", \"h\", \"i\"]]"
   ]
  },
  {
   "cell_type": "code",
   "execution_count": 441,
   "metadata": {},
   "outputs": [
    {
     "data": {
      "text/plain": [
       "['g', 'h', 'i']"
      ]
     },
     "execution_count": 441,
     "metadata": {},
     "output_type": "execute_result"
    }
   ],
   "source": [
    "x[2] # results in a list, that you can subset again by adding additional square brackets"
   ]
  },
  {
   "cell_type": "code",
   "execution_count": 442,
   "metadata": {},
   "outputs": [
    {
     "data": {
      "text/plain": [
       "'g'"
      ]
     },
     "execution_count": 442,
     "metadata": {},
     "output_type": "execute_result"
    }
   ],
   "source": [
    "x[2][0]"
   ]
  },
  {
   "cell_type": "code",
   "execution_count": 443,
   "metadata": {},
   "outputs": [
    {
     "data": {
      "text/plain": [
       "['g', 'h']"
      ]
     },
     "execution_count": 443,
     "metadata": {},
     "output_type": "execute_result"
    }
   ],
   "source": [
    "x[2][:2]"
   ]
  },
  {
   "cell_type": "code",
   "execution_count": 444,
   "metadata": {},
   "outputs": [
    {
     "name": "stdout",
     "output_type": "stream",
     "text": [
      "[['hallway', 11.25], ['kitchen', 18.0], ['living room', 20.0], ['bedroom', 10.75], ['bathroom', 9.5]]\n",
      "['bathroom', 9.5]\n",
      "9.5\n"
     ]
    }
   ],
   "source": [
    "# house[-1][1] ?\n",
    "print(house)\n",
    "print(house[-1])\n",
    "print(house[-1][1])\n"
   ]
  },
  {
   "cell_type": "code",
   "execution_count": null,
   "metadata": {
    "collapsed": true
   },
   "outputs": [],
   "source": []
  },
  {
   "cell_type": "markdown",
   "metadata": {},
   "source": [
    "Replacing list elements => subset the list & assign new values to the subset"
   ]
  },
  {
   "cell_type": "code",
   "execution_count": 445,
   "metadata": {},
   "outputs": [
    {
     "data": {
      "text/plain": [
       "['a', 'r', 'c', 'd']"
      ]
     },
     "execution_count": 445,
     "metadata": {},
     "output_type": "execute_result"
    }
   ],
   "source": [
    "x = [\"a\", \"b\", \"c\", \"d\"]\n",
    "x[1] = \"r\"\n",
    "x"
   ]
  },
  {
   "cell_type": "code",
   "execution_count": 446,
   "metadata": {},
   "outputs": [
    {
     "data": {
      "text/plain": [
       "['a', 'b', 's', 't']"
      ]
     },
     "execution_count": 446,
     "metadata": {},
     "output_type": "execute_result"
    }
   ],
   "source": [
    "x = [\"a\", \"b\", \"c\", \"d\"]\n",
    "x[2:] = [\"s\", \"t\"]\n",
    "x"
   ]
  },
  {
   "cell_type": "code",
   "execution_count": 447,
   "metadata": {},
   "outputs": [
    {
     "data": {
      "text/plain": [
       "['a', 'r', 's', 't']"
      ]
     },
     "execution_count": 447,
     "metadata": {},
     "output_type": "execute_result"
    }
   ],
   "source": [
    "x = [\"a\", \"b\", \"c\", \"d\"]\n",
    "x[1] = \"r\"\n",
    "x[2:] = [\"s\", \"t\"] # replace it with another list to update multiple elements in a single command\n",
    "x"
   ]
  },
  {
   "cell_type": "code",
   "execution_count": 448,
   "metadata": {},
   "outputs": [
    {
     "name": "stdout",
     "output_type": "stream",
     "text": [
      "['hallway', 11.25, 'kitchen', 18.0, 'living room', 20.0, 'bedroom', 10.75, 'bathroom', 9.5]\n"
     ]
    }
   ],
   "source": [
    "areas = [\"hallway\", 11.25, \"kitchen\", 18.0, \"living room\", 20.0, \"bedroom\", 10.75, \"bathroom\", 9.50]\n",
    "print(areas)"
   ]
  },
  {
   "cell_type": "code",
   "execution_count": 449,
   "metadata": {},
   "outputs": [
    {
     "name": "stdout",
     "output_type": "stream",
     "text": [
      "9.5\n",
      "['hallway', 11.25, 'kitchen', 18.0, 'living room', 20.0, 'bedroom', 10.75, 'bathroom', 10.5]\n"
     ]
    }
   ],
   "source": [
    "# Update the area of the bathroom area to be 10.50 square meters instead of 9.50.\n",
    "\n",
    "print(areas[-1])\n",
    "areas[-1] = 10.50\n",
    "print(areas)"
   ]
  },
  {
   "cell_type": "code",
   "execution_count": 450,
   "metadata": {},
   "outputs": [
    {
     "name": "stdout",
     "output_type": "stream",
     "text": [
      "living room\n",
      "['hallway', 11.25, 'kitchen', 18.0, 'chill zone', 20.0, 'bedroom', 10.75, 'bathroom', 10.5]\n"
     ]
    }
   ],
   "source": [
    "# Make the areas list more trendy! Change \"living room\" to \"chill zone\".\n",
    "\n",
    "print(areas[4])\n",
    "areas[4] = \"chill zone\"\n",
    "print(areas)"
   ]
  },
  {
   "cell_type": "code",
   "execution_count": null,
   "metadata": {
    "collapsed": true
   },
   "outputs": [],
   "source": []
  },
  {
   "cell_type": "markdown",
   "metadata": {},
   "source": [
    "Extend a list => use the + operator"
   ]
  },
  {
   "cell_type": "code",
   "execution_count": 451,
   "metadata": {},
   "outputs": [
    {
     "data": {
      "text/plain": [
       "['a', 'b', 'c', 'd', 'e', 'f']"
      ]
     },
     "execution_count": 451,
     "metadata": {},
     "output_type": "execute_result"
    }
   ],
   "source": [
    "x = [\"a\", \"b\", \"c\", \"d\"]\n",
    "y = x + [\"e\", \"f\"]\n",
    "y"
   ]
  },
  {
   "cell_type": "code",
   "execution_count": 452,
   "metadata": {},
   "outputs": [
    {
     "name": "stdout",
     "output_type": "stream",
     "text": [
      "['hallway', 11.25, 'kitchen', 18.0, 'chill zone', 20.0, 'bedroom', 10.75, 'bathroom', 10.5, 'poolhouse', 24.5]\n"
     ]
    }
   ],
   "source": [
    "# Use the + operator to paste the list [\"poolhouse\", 24.5] to the end of the areas list\n",
    "# Store the resulting list as areas_1.\n",
    "\n",
    "areas_1 = areas + [\"poolhouse\", 24.5]\n",
    "print(areas_1)\n"
   ]
  },
  {
   "cell_type": "code",
   "execution_count": 453,
   "metadata": {},
   "outputs": [
    {
     "name": "stdout",
     "output_type": "stream",
     "text": [
      "['hallway', 11.25, 'kitchen', 18.0, 'chill zone', 20.0, 'bedroom', 10.75, 'bathroom', 10.5, 'poolhouse', 24.5, 'garage', 15.45]\n"
     ]
    }
   ],
   "source": [
    "# Further extend areas_1 by adding data on your garage.\n",
    "# Add the string \"garage\" and float 15.45. \n",
    "# Name the resulting list areas_2.\n",
    "\n",
    "areas_2 = areas_1 + [\"garage\", 15.45]\n",
    "print(areas_2)"
   ]
  },
  {
   "cell_type": "code",
   "execution_count": null,
   "metadata": {
    "collapsed": true
   },
   "outputs": [],
   "source": []
  },
  {
   "cell_type": "markdown",
   "metadata": {},
   "source": [
    "Delete list elements"
   ]
  },
  {
   "cell_type": "code",
   "execution_count": 454,
   "metadata": {},
   "outputs": [
    {
     "name": "stdout",
     "output_type": "stream",
     "text": [
      "['a', 'b', 'c', 'd']\n",
      "['a', 'c', 'd']\n"
     ]
    }
   ],
   "source": [
    "x = [\"a\", \"b\", \"c\", \"d\"]\n",
    "print(x)\n",
    "\n",
    "del(x[1])\n",
    "\n",
    "# as soon as you remove an element from a list, \n",
    "# the indexes of the elements that come after the deleted element all change!\n",
    "\n",
    "print(x)"
   ]
  },
  {
   "cell_type": "code",
   "execution_count": 455,
   "metadata": {
    "collapsed": true
   },
   "outputs": [],
   "source": [
    "# recreate areas\n",
    "\n",
    "areas = [\"hallway\", 11.25, \"kitchen\", 18.0,\n",
    "        \"chill zone\", 20.0, \"bedroom\", 10.75,\n",
    "         \"bathroom\", 10.50, \"poolhouse\", 24.5,\n",
    "         \"garage\", 15.45]"
   ]
  },
  {
   "cell_type": "code",
   "execution_count": 456,
   "metadata": {
    "collapsed": true
   },
   "outputs": [],
   "source": [
    "# want to remove poolhouse - which of the following code chunks will do?"
   ]
  },
  {
   "cell_type": "markdown",
   "metadata": {},
   "source": [
    "    del(areas[10]); del(areas[11])\n",
    "\n",
    "    del(areas[10:11])\n",
    "\n",
    "    del(areas[-4:-2])\n",
    "\n",
    "    del(areas[-3]); del(areas[-4])"
   ]
  },
  {
   "cell_type": "markdown",
   "metadata": {},
   "source": [
    "        NB: the \";\" sign is used to place commands on the same line. \n",
    "\n",
    "        The following two code chunks are equivalent:\n",
    "\n",
    "            '# Same line\n",
    "            'command1; command2\n",
    "            '\n",
    "            '# Separate lines\n",
    "            'command1\n",
    "            'command2"
   ]
  },
  {
   "cell_type": "code",
   "execution_count": null,
   "metadata": {},
   "outputs": [],
   "source": []
  },
  {
   "cell_type": "code",
   "execution_count": 457,
   "metadata": {},
   "outputs": [
    {
     "name": "stdout",
     "output_type": "stream",
     "text": [
      "['hallway', 11.25, 'kitchen', 18.0, 'chill zone', 20.0, 'bedroom', 10.75, 'bathroom', 10.5, 'poolhouse', 24.5, 'garage', 15.45]\n",
      "['hallway', 11.25, 'kitchen', 18.0, 'chill zone', 20.0, 'bedroom', 10.75, 'bathroom', 10.5, 24.5, 15.45]\n"
     ]
    }
   ],
   "source": [
    "areas = [\"hallway\", 11.25, \"kitchen\", 18.0,\n",
    "        \"chill zone\", 20.0, \"bedroom\", 10.75,\n",
    "         \"bathroom\", 10.50, \"poolhouse\", 24.5,\n",
    "         \"garage\", 15.45]\n",
    "print(areas)\n",
    "del(areas[10]); del(areas[11])\n",
    "print(areas)\n",
    "\n",
    "# If you first remove areas[10], \n",
    "# all elements after index 10 move up a spot. \n",
    "# If you then do del(areas[11]), \n",
    "# you are deleting the element that was originally at index 12."
   ]
  },
  {
   "cell_type": "code",
   "execution_count": 458,
   "metadata": {},
   "outputs": [
    {
     "name": "stdout",
     "output_type": "stream",
     "text": [
      "['hallway', 11.25, 'kitchen', 18.0, 'chill zone', 20.0, 'bedroom', 10.75, 'bathroom', 10.5, 'poolhouse', 24.5, 'garage', 15.45]\n",
      "['hallway', 11.25, 'kitchen', 18.0, 'chill zone', 20.0, 'bedroom', 10.75, 'bathroom', 10.5, 24.5, 'garage', 15.45]\n"
     ]
    }
   ],
   "source": [
    "areas = [\"hallway\", 11.25, \"kitchen\", 18.0,\n",
    "        \"chill zone\", 20.0, \"bedroom\", 10.75,\n",
    "         \"bathroom\", 10.50, \"poolhouse\", 24.5,\n",
    "         \"garage\", 15.45]\n",
    "print(areas)\n",
    "del(areas[10:11])\n",
    "print(areas) # will only select the element at index 10"
   ]
  },
  {
   "cell_type": "code",
   "execution_count": 459,
   "metadata": {},
   "outputs": [
    {
     "name": "stdout",
     "output_type": "stream",
     "text": [
      "['hallway', 11.25, 'kitchen', 18.0, 'chill zone', 20.0, 'bedroom', 10.75, 'bathroom', 10.5, 'poolhouse', 24.5, 'garage', 15.45]\n",
      "['hallway', 11.25, 'kitchen', 18.0, 'chill zone', 20.0, 'bedroom', 10.75, 'bathroom', 'poolhouse', 'garage', 15.45]\n"
     ]
    }
   ],
   "source": [
    "areas = [\"hallway\", 11.25, \"kitchen\", 18.0,\n",
    "        \"chill zone\", 20.0, \"bedroom\", 10.75,\n",
    "         \"bathroom\", 10.50, \"poolhouse\", 24.5,\n",
    "         \"garage\", 15.45]\n",
    "print(areas)\n",
    "del(areas[-3]); del(areas[-4])\n",
    "print(areas)\n",
    "\n",
    "# This code chunk will not correctly remove the poolhouse-related information."
   ]
  },
  {
   "cell_type": "code",
   "execution_count": 460,
   "metadata": {},
   "outputs": [
    {
     "name": "stdout",
     "output_type": "stream",
     "text": [
      "['hallway', 11.25, 'kitchen', 18.0, 'chill zone', 20.0, 'bedroom', 10.75, 'bathroom', 10.5, 'poolhouse', 24.5, 'garage', 15.45]\n",
      "['hallway', 11.25, 'kitchen', 18.0, 'chill zone', 20.0, 'bedroom', 10.75, 'bathroom', 10.5, 'garage', 15.45]\n"
     ]
    }
   ],
   "source": [
    "areas = [\"hallway\", 11.25, \"kitchen\", 18.0,\n",
    "        \"chill zone\", 20.0, \"bedroom\", 10.75,\n",
    "         \"bathroom\", 10.50, \"poolhouse\", 24.5,\n",
    "         \"garage\", 15.45]\n",
    "print(areas)\n",
    "del(areas[-4:-2])\n",
    "print(areas)"
   ]
  },
  {
   "cell_type": "code",
   "execution_count": null,
   "metadata": {
    "collapsed": true
   },
   "outputs": [],
   "source": []
  },
  {
   "cell_type": "code",
   "execution_count": 461,
   "metadata": {
    "collapsed": true
   },
   "outputs": [],
   "source": [
    "x = [\"a\", \"b\", \"c\"]"
   ]
  },
  {
   "cell_type": "markdown",
   "metadata": {},
   "source": [
    "behind the scenes of creating a list:\n",
    "\n",
    "x = [\"a\", \"b\", \"c\"]\n",
    "\n",
    "1. store list in memory\n",
    "2. store address of list in x\n",
    "\n",
    "x does not contain the list elements\n",
    "\n",
    "x contains a reference to the list\n"
   ]
  },
  {
   "cell_type": "code",
   "execution_count": 462,
   "metadata": {
    "collapsed": true
   },
   "outputs": [],
   "source": [
    "# e.g.\n",
    "\n",
    "# store the list \"x\" as a new variable \"y\"\n",
    "\n",
    "y = x"
   ]
  },
  {
   "cell_type": "code",
   "execution_count": 463,
   "metadata": {},
   "outputs": [
    {
     "data": {
      "text/plain": [
       "['a', 'z', 'c']"
      ]
     },
     "execution_count": 463,
     "metadata": {},
     "output_type": "execute_result"
    }
   ],
   "source": [
    "# change the element with index one in the list y:\n",
    "\n",
    "y[1] = \"z\"\n",
    "\n",
    "y"
   ]
  },
  {
   "cell_type": "code",
   "execution_count": 464,
   "metadata": {},
   "outputs": [
    {
     "data": {
      "text/plain": [
       "['a', 'z', 'c']"
      ]
     },
     "execution_count": 464,
     "metadata": {},
     "output_type": "execute_result"
    }
   ],
   "source": [
    "x # the second element was ALSO changed"
   ]
  },
  {
   "cell_type": "markdown",
   "metadata": {},
   "source": [
    "when you copied x to y with the equal sign\n",
    "this copied the reference to the list\n",
    "not the actual values themselves\n",
    "\n",
    "both x and y point to this list - i.e. same list in the computer memory"
   ]
  },
  {
   "cell_type": "code",
   "execution_count": 465,
   "metadata": {
    "collapsed": true
   },
   "outputs": [],
   "source": [
    "x = [\"a\", \"b\", \"c\"]"
   ]
  },
  {
   "cell_type": "code",
   "execution_count": 466,
   "metadata": {
    "collapsed": true
   },
   "outputs": [],
   "source": [
    "# To create a list \"y\" that points to a new list in the memory with the same values\n",
    "\n",
    "y = list(x)\n",
    "y = x[:]"
   ]
  },
  {
   "cell_type": "code",
   "execution_count": 467,
   "metadata": {
    "scrolled": true
   },
   "outputs": [
    {
     "data": {
      "text/plain": [
       "['a', 'b', 'c']"
      ]
     },
     "execution_count": 467,
     "metadata": {},
     "output_type": "execute_result"
    }
   ],
   "source": [
    "y[1] = \"z\"\n",
    "x"
   ]
  },
  {
   "cell_type": "code",
   "execution_count": 468,
   "metadata": {},
   "outputs": [
    {
     "name": "stdout",
     "output_type": "stream",
     "text": [
      "[5.0, 18.0, 20.0, 10.75, 9.5]\n"
     ]
    }
   ],
   "source": [
    "# For example\n",
    "\n",
    "# Create list areas\n",
    "areas = [11.25, 18.0, 20.0, 10.75, 9.50]\n",
    "\n",
    "# Create areas_copy\n",
    "areas_copy = areas # i.e. point to the same list\n",
    "\n",
    "# Change areas_copy\n",
    "areas_copy[0] = 5.0\n",
    "\n",
    "# Print areas\n",
    "print(areas) # change also takes effect in the areas list"
   ]
  },
  {
   "cell_type": "markdown",
   "metadata": {},
   "source": [
    " explicit copy"
   ]
  },
  {
   "cell_type": "code",
   "execution_count": 469,
   "metadata": {},
   "outputs": [
    {
     "name": "stdout",
     "output_type": "stream",
     "text": [
      "[11.25, 18.0, 20.0, 10.75, 9.5]\n"
     ]
    }
   ],
   "source": [
    "areas = [11.25, 18.0, 20.0, 10.75, 9.50]\n",
    "areas_copy = list(areas) # explicit copy of areas\n",
    "areas_copy[0] = 5.0\n",
    "print(areas) # change does not take effect in the areas list"
   ]
  },
  {
   "cell_type": "code",
   "execution_count": 470,
   "metadata": {},
   "outputs": [
    {
     "name": "stdout",
     "output_type": "stream",
     "text": [
      "[11.25, 18.0, 20.0, 10.75, 9.5]\n"
     ]
    }
   ],
   "source": [
    "areas = [11.25, 18.0, 20.0, 10.75, 9.50]\n",
    "areas_copy = areas[:] # explicit copy of areas\n",
    "areas_copy[0] = 5.0\n",
    "print(areas) # change does not take effect in the areas list"
   ]
  }
 ],
 "metadata": {
  "kernelspec": {
   "display_name": "Python 3",
   "language": "python",
   "name": "python3"
  },
  "language_info": {
   "codemirror_mode": {
    "name": "ipython",
    "version": 3
   },
   "file_extension": ".py",
   "mimetype": "text/x-python",
   "name": "python",
   "nbconvert_exporter": "python",
   "pygments_lexer": "ipython3",
   "version": "3.6.3"
  }
 },
 "nbformat": 4,
 "nbformat_minor": 2
}
